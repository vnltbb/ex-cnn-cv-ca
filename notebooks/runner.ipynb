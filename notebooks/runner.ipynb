{
 "cells": [
  {
   "cell_type": "markdown",
   "id": "5a188cfe",
   "metadata": {},
   "source": [
    "### 1. setting and data"
   ]
  },
  {
   "cell_type": "code",
   "execution_count": 5,
   "id": "10665d29",
   "metadata": {},
   "outputs": [
    {
     "name": "stdout",
     "output_type": "stream",
     "text": [
      "Requirement already satisfied: pip in /Users/vnlt/PROJECT/ex-cnn-cv/.venv/lib/python3.9/site-packages (25.2)\n",
      "Requirement already satisfied: pyyaml in /Users/vnlt/PROJECT/ex-cnn-cv/.venv/lib/python3.9/site-packages (6.0.2)\n",
      "Requirement already satisfied: pandas in /Users/vnlt/PROJECT/ex-cnn-cv/.venv/lib/python3.9/site-packages (2.3.0)\n",
      "Requirement already satisfied: numpy in /Users/vnlt/PROJECT/ex-cnn-cv/.venv/lib/python3.9/site-packages (1.26.4)\n",
      "Requirement already satisfied: matplotlib in /Users/vnlt/PROJECT/ex-cnn-cv/.venv/lib/python3.9/site-packages (3.9.4)\n",
      "Requirement already satisfied: seaborn in /Users/vnlt/PROJECT/ex-cnn-cv/.venv/lib/python3.9/site-packages (0.13.2)\n",
      "Requirement already satisfied: scikit-learn in /Users/vnlt/PROJECT/ex-cnn-cv/.venv/lib/python3.9/site-packages (1.6.1)\n",
      "Requirement already satisfied: python-dateutil>=2.8.2 in /Users/vnlt/PROJECT/ex-cnn-cv/.venv/lib/python3.9/site-packages (from pandas) (2.9.0.post0)\n",
      "Requirement already satisfied: pytz>=2020.1 in /Users/vnlt/PROJECT/ex-cnn-cv/.venv/lib/python3.9/site-packages (from pandas) (2025.2)\n",
      "Requirement already satisfied: tzdata>=2022.7 in /Users/vnlt/PROJECT/ex-cnn-cv/.venv/lib/python3.9/site-packages (from pandas) (2025.2)\n",
      "Requirement already satisfied: contourpy>=1.0.1 in /Users/vnlt/PROJECT/ex-cnn-cv/.venv/lib/python3.9/site-packages (from matplotlib) (1.3.0)\n",
      "Requirement already satisfied: cycler>=0.10 in /Users/vnlt/PROJECT/ex-cnn-cv/.venv/lib/python3.9/site-packages (from matplotlib) (0.12.1)\n",
      "Requirement already satisfied: fonttools>=4.22.0 in /Users/vnlt/PROJECT/ex-cnn-cv/.venv/lib/python3.9/site-packages (from matplotlib) (4.58.4)\n",
      "Requirement already satisfied: kiwisolver>=1.3.1 in /Users/vnlt/PROJECT/ex-cnn-cv/.venv/lib/python3.9/site-packages (from matplotlib) (1.4.7)\n",
      "Requirement already satisfied: packaging>=20.0 in /Users/vnlt/PROJECT/ex-cnn-cv/.venv/lib/python3.9/site-packages (from matplotlib) (25.0)\n",
      "Requirement already satisfied: pillow>=8 in /Users/vnlt/PROJECT/ex-cnn-cv/.venv/lib/python3.9/site-packages (from matplotlib) (11.2.1)\n",
      "Requirement already satisfied: pyparsing>=2.3.1 in /Users/vnlt/PROJECT/ex-cnn-cv/.venv/lib/python3.9/site-packages (from matplotlib) (3.2.3)\n",
      "Requirement already satisfied: importlib-resources>=3.2.0 in /Users/vnlt/PROJECT/ex-cnn-cv/.venv/lib/python3.9/site-packages (from matplotlib) (6.5.2)\n",
      "Requirement already satisfied: scipy>=1.6.0 in /Users/vnlt/PROJECT/ex-cnn-cv/.venv/lib/python3.9/site-packages (from scikit-learn) (1.13.1)\n",
      "Requirement already satisfied: joblib>=1.2.0 in /Users/vnlt/PROJECT/ex-cnn-cv/.venv/lib/python3.9/site-packages (from scikit-learn) (1.5.1)\n",
      "Requirement already satisfied: threadpoolctl>=3.1.0 in /Users/vnlt/PROJECT/ex-cnn-cv/.venv/lib/python3.9/site-packages (from scikit-learn) (3.6.0)\n",
      "Requirement already satisfied: zipp>=3.1.0 in /Users/vnlt/PROJECT/ex-cnn-cv/.venv/lib/python3.9/site-packages (from importlib-resources>=3.2.0->matplotlib) (3.23.0)\n",
      "Requirement already satisfied: six>=1.5 in /Users/vnlt/PROJECT/ex-cnn-cv/.venv/lib/python3.9/site-packages (from python-dateutil>=2.8.2->pandas) (1.17.0)\n",
      "Found existing installation: keras 3.10.0\n",
      "Uninstalling keras-3.10.0:\n",
      "  Successfully uninstalled keras-3.10.0\n",
      "Requirement already satisfied: tensorflow-macos>=2.16 in /Users/vnlt/PROJECT/ex-cnn-cv/.venv/lib/python3.9/site-packages (2.16.2)\n",
      "Requirement already satisfied: tensorflow==2.16.2 in /Users/vnlt/PROJECT/ex-cnn-cv/.venv/lib/python3.9/site-packages (from tensorflow-macos>=2.16) (2.16.2)\n",
      "Requirement already satisfied: absl-py>=1.0.0 in /Users/vnlt/PROJECT/ex-cnn-cv/.venv/lib/python3.9/site-packages (from tensorflow==2.16.2->tensorflow-macos>=2.16) (2.3.0)\n",
      "Requirement already satisfied: astunparse>=1.6.0 in /Users/vnlt/PROJECT/ex-cnn-cv/.venv/lib/python3.9/site-packages (from tensorflow==2.16.2->tensorflow-macos>=2.16) (1.6.3)\n",
      "Requirement already satisfied: flatbuffers>=23.5.26 in /Users/vnlt/PROJECT/ex-cnn-cv/.venv/lib/python3.9/site-packages (from tensorflow==2.16.2->tensorflow-macos>=2.16) (25.2.10)\n",
      "Requirement already satisfied: gast!=0.5.0,!=0.5.1,!=0.5.2,>=0.2.1 in /Users/vnlt/PROJECT/ex-cnn-cv/.venv/lib/python3.9/site-packages (from tensorflow==2.16.2->tensorflow-macos>=2.16) (0.6.0)\n",
      "Requirement already satisfied: google-pasta>=0.1.1 in /Users/vnlt/PROJECT/ex-cnn-cv/.venv/lib/python3.9/site-packages (from tensorflow==2.16.2->tensorflow-macos>=2.16) (0.2.0)\n",
      "Requirement already satisfied: h5py>=3.10.0 in /Users/vnlt/PROJECT/ex-cnn-cv/.venv/lib/python3.9/site-packages (from tensorflow==2.16.2->tensorflow-macos>=2.16) (3.14.0)\n",
      "Requirement already satisfied: libclang>=13.0.0 in /Users/vnlt/PROJECT/ex-cnn-cv/.venv/lib/python3.9/site-packages (from tensorflow==2.16.2->tensorflow-macos>=2.16) (18.1.1)\n",
      "Requirement already satisfied: ml-dtypes~=0.3.1 in /Users/vnlt/PROJECT/ex-cnn-cv/.venv/lib/python3.9/site-packages (from tensorflow==2.16.2->tensorflow-macos>=2.16) (0.3.2)\n",
      "Requirement already satisfied: opt-einsum>=2.3.2 in /Users/vnlt/PROJECT/ex-cnn-cv/.venv/lib/python3.9/site-packages (from tensorflow==2.16.2->tensorflow-macos>=2.16) (3.4.0)\n",
      "Requirement already satisfied: packaging in /Users/vnlt/PROJECT/ex-cnn-cv/.venv/lib/python3.9/site-packages (from tensorflow==2.16.2->tensorflow-macos>=2.16) (25.0)\n",
      "Requirement already satisfied: protobuf!=4.21.0,!=4.21.1,!=4.21.2,!=4.21.3,!=4.21.4,!=4.21.5,<5.0.0dev,>=3.20.3 in /Users/vnlt/PROJECT/ex-cnn-cv/.venv/lib/python3.9/site-packages (from tensorflow==2.16.2->tensorflow-macos>=2.16) (4.25.8)\n",
      "Requirement already satisfied: requests<3,>=2.21.0 in /Users/vnlt/PROJECT/ex-cnn-cv/.venv/lib/python3.9/site-packages (from tensorflow==2.16.2->tensorflow-macos>=2.16) (2.32.4)\n",
      "Requirement already satisfied: setuptools in /Users/vnlt/PROJECT/ex-cnn-cv/.venv/lib/python3.9/site-packages (from tensorflow==2.16.2->tensorflow-macos>=2.16) (58.0.4)\n",
      "Requirement already satisfied: six>=1.12.0 in /Users/vnlt/PROJECT/ex-cnn-cv/.venv/lib/python3.9/site-packages (from tensorflow==2.16.2->tensorflow-macos>=2.16) (1.17.0)\n",
      "Requirement already satisfied: termcolor>=1.1.0 in /Users/vnlt/PROJECT/ex-cnn-cv/.venv/lib/python3.9/site-packages (from tensorflow==2.16.2->tensorflow-macos>=2.16) (3.1.0)\n",
      "Requirement already satisfied: typing-extensions>=3.6.6 in /Users/vnlt/PROJECT/ex-cnn-cv/.venv/lib/python3.9/site-packages (from tensorflow==2.16.2->tensorflow-macos>=2.16) (4.14.0)\n",
      "Requirement already satisfied: wrapt>=1.11.0 in /Users/vnlt/PROJECT/ex-cnn-cv/.venv/lib/python3.9/site-packages (from tensorflow==2.16.2->tensorflow-macos>=2.16) (1.17.2)\n",
      "Requirement already satisfied: grpcio<2.0,>=1.24.3 in /Users/vnlt/PROJECT/ex-cnn-cv/.venv/lib/python3.9/site-packages (from tensorflow==2.16.2->tensorflow-macos>=2.16) (1.73.0)\n",
      "Requirement already satisfied: tensorboard<2.17,>=2.16 in /Users/vnlt/PROJECT/ex-cnn-cv/.venv/lib/python3.9/site-packages (from tensorflow==2.16.2->tensorflow-macos>=2.16) (2.16.2)\n",
      "Collecting keras>=3.0.0 (from tensorflow==2.16.2->tensorflow-macos>=2.16)\n",
      "  Using cached keras-3.10.0-py3-none-any.whl.metadata (6.0 kB)\n",
      "Requirement already satisfied: tensorflow-io-gcs-filesystem>=0.23.1 in /Users/vnlt/PROJECT/ex-cnn-cv/.venv/lib/python3.9/site-packages (from tensorflow==2.16.2->tensorflow-macos>=2.16) (0.37.1)\n",
      "Requirement already satisfied: numpy<2.0.0,>=1.23.5 in /Users/vnlt/PROJECT/ex-cnn-cv/.venv/lib/python3.9/site-packages (from tensorflow==2.16.2->tensorflow-macos>=2.16) (1.26.4)\n",
      "Requirement already satisfied: charset_normalizer<4,>=2 in /Users/vnlt/PROJECT/ex-cnn-cv/.venv/lib/python3.9/site-packages (from requests<3,>=2.21.0->tensorflow==2.16.2->tensorflow-macos>=2.16) (3.4.2)\n",
      "Requirement already satisfied: idna<4,>=2.5 in /Users/vnlt/PROJECT/ex-cnn-cv/.venv/lib/python3.9/site-packages (from requests<3,>=2.21.0->tensorflow==2.16.2->tensorflow-macos>=2.16) (3.10)\n",
      "Requirement already satisfied: urllib3<3,>=1.21.1 in /Users/vnlt/PROJECT/ex-cnn-cv/.venv/lib/python3.9/site-packages (from requests<3,>=2.21.0->tensorflow==2.16.2->tensorflow-macos>=2.16) (2.5.0)\n",
      "Requirement already satisfied: certifi>=2017.4.17 in /Users/vnlt/PROJECT/ex-cnn-cv/.venv/lib/python3.9/site-packages (from requests<3,>=2.21.0->tensorflow==2.16.2->tensorflow-macos>=2.16) (2025.6.15)\n",
      "Requirement already satisfied: markdown>=2.6.8 in /Users/vnlt/PROJECT/ex-cnn-cv/.venv/lib/python3.9/site-packages (from tensorboard<2.17,>=2.16->tensorflow==2.16.2->tensorflow-macos>=2.16) (3.8.2)\n",
      "Requirement already satisfied: tensorboard-data-server<0.8.0,>=0.7.0 in /Users/vnlt/PROJECT/ex-cnn-cv/.venv/lib/python3.9/site-packages (from tensorboard<2.17,>=2.16->tensorflow==2.16.2->tensorflow-macos>=2.16) (0.7.2)\n",
      "Requirement already satisfied: werkzeug>=1.0.1 in /Users/vnlt/PROJECT/ex-cnn-cv/.venv/lib/python3.9/site-packages (from tensorboard<2.17,>=2.16->tensorflow==2.16.2->tensorflow-macos>=2.16) (3.1.3)\n",
      "Requirement already satisfied: wheel<1.0,>=0.23.0 in /Users/vnlt/PROJECT/ex-cnn-cv/.venv/lib/python3.9/site-packages (from astunparse>=1.6.0->tensorflow==2.16.2->tensorflow-macos>=2.16) (0.45.1)\n",
      "Requirement already satisfied: rich in /Users/vnlt/PROJECT/ex-cnn-cv/.venv/lib/python3.9/site-packages (from keras>=3.0.0->tensorflow==2.16.2->tensorflow-macos>=2.16) (14.0.0)\n",
      "Requirement already satisfied: namex in /Users/vnlt/PROJECT/ex-cnn-cv/.venv/lib/python3.9/site-packages (from keras>=3.0.0->tensorflow==2.16.2->tensorflow-macos>=2.16) (0.1.0)\n",
      "Requirement already satisfied: optree in /Users/vnlt/PROJECT/ex-cnn-cv/.venv/lib/python3.9/site-packages (from keras>=3.0.0->tensorflow==2.16.2->tensorflow-macos>=2.16) (0.16.0)\n",
      "Requirement already satisfied: importlib-metadata>=4.4 in /Users/vnlt/PROJECT/ex-cnn-cv/.venv/lib/python3.9/site-packages (from markdown>=2.6.8->tensorboard<2.17,>=2.16->tensorflow==2.16.2->tensorflow-macos>=2.16) (8.7.0)\n",
      "Requirement already satisfied: zipp>=3.20 in /Users/vnlt/PROJECT/ex-cnn-cv/.venv/lib/python3.9/site-packages (from importlib-metadata>=4.4->markdown>=2.6.8->tensorboard<2.17,>=2.16->tensorflow==2.16.2->tensorflow-macos>=2.16) (3.23.0)\n",
      "Requirement already satisfied: MarkupSafe>=2.1.1 in /Users/vnlt/PROJECT/ex-cnn-cv/.venv/lib/python3.9/site-packages (from werkzeug>=1.0.1->tensorboard<2.17,>=2.16->tensorflow==2.16.2->tensorflow-macos>=2.16) (3.0.2)\n",
      "Requirement already satisfied: markdown-it-py>=2.2.0 in /Users/vnlt/PROJECT/ex-cnn-cv/.venv/lib/python3.9/site-packages (from rich->keras>=3.0.0->tensorflow==2.16.2->tensorflow-macos>=2.16) (3.0.0)\n",
      "Requirement already satisfied: pygments<3.0.0,>=2.13.0 in /Users/vnlt/PROJECT/ex-cnn-cv/.venv/lib/python3.9/site-packages (from rich->keras>=3.0.0->tensorflow==2.16.2->tensorflow-macos>=2.16) (2.19.2)\n",
      "Requirement already satisfied: mdurl~=0.1 in /Users/vnlt/PROJECT/ex-cnn-cv/.venv/lib/python3.9/site-packages (from markdown-it-py>=2.2.0->rich->keras>=3.0.0->tensorflow==2.16.2->tensorflow-macos>=2.16) (0.1.2)\n",
      "Using cached keras-3.10.0-py3-none-any.whl (1.4 MB)\n",
      "Installing collected packages: keras\n",
      "Successfully installed keras-3.10.0\n",
      "Requirement already satisfied: opencv-python in /Users/vnlt/PROJECT/ex-cnn-cv/.venv/lib/python3.9/site-packages (4.11.0.86)\n",
      "Requirement already satisfied: numpy>=1.21.0 in /Users/vnlt/PROJECT/ex-cnn-cv/.venv/lib/python3.9/site-packages (from opencv-python) (1.26.4)\n"
     ]
    }
   ],
   "source": [
    "#install module\n",
    "!pip install --upgrade pip\n",
    "!pip install pyyaml pandas numpy matplotlib seaborn scikit-learn\n",
    "!pip uninstall keras -y\n",
    "!pip install \"tensorflow-macos>=2.16\"\n",
    "!pip install opencv-python"
   ]
  },
  {
   "cell_type": "code",
   "execution_count": 6,
   "id": "cfa08da8",
   "metadata": {},
   "outputs": [],
   "source": [
    "import sys, os\n",
    "\n",
    "# 현재 실행 중인 노트북 기준 루트 디렉토리 잡기 (notebook과 config 폴더가 같은 상위 폴더에 있어야 함)\n",
    "project_root = os.path.abspath(os.path.join(os.getcwd(), '..'))\n",
    "if project_root not in sys.path:\n",
    "    sys.path.insert(0, project_root)"
   ]
  },
  {
   "cell_type": "code",
   "execution_count": 7,
   "id": "cf8f6cb8",
   "metadata": {},
   "outputs": [],
   "source": [
    "#import module\n",
    "import yaml\n",
    "import pandas as pd\n",
    "import numpy as np\n",
    "import matplotlib.pyplot as plt\n",
    "from pathlib import Path\n",
    "\n",
    "from config.load_config import load_config\n",
    "from data.split_dataset import data_count, extract_balanced_dataset\n",
    "from data.data_distribution import class_distribution\n",
    "from data.dataloader import get_generators\n",
    "from models.build_model import get_model\n",
    "from models.build_model import build_model\n",
    "from train.optimizer import get_optimizer\n",
    "from train.callbacks import get_callbacks\n",
    "from train.trainer import train_model\n",
    "from utils.evaluation import evaluate_model\n",
    "from utils.evaluation import plot_confusion_matrix\n",
    "from utils.evaluation import plot_train_history\n",
    "from utils.evaluation import show_top_misclassified\n",
    "from utils.evaluation import plot_metrics_text\n",
    "from utils.save_results import save_results\n"
   ]
  },
  {
   "cell_type": "markdown",
   "id": "676e7025",
   "metadata": {},
   "source": [
    "### change the config path"
   ]
  },
  {
   "cell_type": "code",
   "execution_count": 8,
   "id": "75c367e3",
   "metadata": {},
   "outputs": [],
   "source": [
    "# Load configuration\n",
    "config = load_config('/Users/vnlt/PROJECT/ex-cnn-cv/config/config.yaml')\n",
    "data_dir = f\"{config['base_output_dir']}/seed{config['seed']}\"\n",
    "batch_size = config['batch_size']\n",
    "save_dir = f\"results/{config['experiment_id']}\"\n",
    "os.makedirs(save_dir, exist_ok=True)\n"
   ]
  },
  {
   "cell_type": "code",
   "execution_count": 9,
   "id": "5b91a373",
   "metadata": {},
   "outputs": [
    {
     "name": "stdout",
     "output_type": "stream",
     "text": [
      "<class 'dict'>\n",
      "{'experiment_id': 'EfficientNetB0_v1_test2', 'backbone_name': 'EfficientNetB0', 'original_dataset_dir': '/Volumes/PortableSSD/dataset-pepper', 'base_output_dir': '/Users/vnlt/PROJECT/ex-cnn-cv/data/dataset', 'input_shape': [224, 224, 3], 'train_ratio': 0.7, 'val_ratio': 0.2, 'test_ratio': 0.1, 'seed': 99, 'augmentations': None, 'epochs': 1, 'batch_size': 5, 'optimizer': 'adamw', 'learning_rate': 0.0001, 'weight_decay': '1e-5', 'patience': 10, 'dropout_rate': 0.5, 'save_best_only': True, 'model_save_dir': '/Users/vnlt/PROJECT/ex-cnn-cv/models/save_models', 'num_classes': 5}\n"
     ]
    }
   ],
   "source": [
    "# check if config is loaded correctly\n",
    "print(type(config))\n",
    "print(config)\n"
   ]
  },
  {
   "cell_type": "code",
   "execution_count": 10,
   "id": "fe4518c6",
   "metadata": {},
   "outputs": [],
   "source": [
    "# import and define preprocess_map for specific data generators to use\n",
    "import tensorflow as tf\n",
    "import matplotlib.pyplot as plt\n",
    "import os\n",
    "import numpy as np\n",
    "import pandas as pd\n",
    "from tensorflow.keras.preprocessing.image import ImageDataGenerator\n",
    "from tensorflow.keras.applications import MobileNetV2, EfficientNetB0, ResNet50, DenseNet121\n",
    "from tensorflow.keras.applications.mobilenet_v2 import preprocess_input as mobilenet_preprocess\n",
    "from tensorflow.keras.applications.efficientnet import preprocess_input as efficientnet_preprocess\n",
    "from tensorflow.keras.applications.resnet50 import preprocess_input as resnet_preprocess\n",
    "from tensorflow.keras.applications.densenet import preprocess_input as densenet_preprocess\n",
    "from sklearn.model_selection import train_test_split\n",
    "\n",
    "\n",
    "preprocess_map = {\n",
    "    'MobileNetV2': mobilenet_preprocess,\n",
    "    'EfficientNetB0': efficientnet_preprocess,\n",
    "    'ResNet50': resnet_preprocess,\n",
    "    'DenseNet121': densenet_preprocess,\n",
    "}"
   ]
  },
  {
   "cell_type": "markdown",
   "id": "c88eef19",
   "metadata": {},
   "source": [
    "### checkpoint-split dataset\n",
    "- select data split O/X\n",
    "- select data generator for ex-ver"
   ]
  },
  {
   "cell_type": "code",
   "execution_count": null,
   "id": "96eb858c",
   "metadata": {},
   "outputs": [],
   "source": [
    "class_image_counts, images, min_count = data_count(\n",
    "    original_dataset_dir=config['original_dataset_dir']\n",
    ")\n",
    "\n",
    "extract_balanced_dataset(\n",
    "    original_dataset_dir=config['original_dataset_dir'],\n",
    "    min_count=min_count,\n",
    "    base_output_dir=f\"{config['base_output_dir']}/seed{config['seed']}\",\n",
    "    seed=config['seed']\n",
    ")"
   ]
  },
  {
   "cell_type": "markdown",
   "id": "43b0b923",
   "metadata": {},
   "source": [
    "#### data generators for verA, B, C"
   ]
  },
  {
   "cell_type": "code",
   "execution_count": 11,
   "id": "89d50474",
   "metadata": {},
   "outputs": [
    {
     "name": "stdout",
     "output_type": "stream",
     "text": [
      "<function get_generators.<locals>.custom_preprocessing at 0x31e73f790>\n",
      "<function preprocess_input at 0x31ceb9940>\n",
      "Found 70 validated image filenames belonging to 5 classes.\n",
      "Found 20 validated image filenames belonging to 5 classes.\n",
      "Found 11 validated image filenames belonging to 5 classes.\n"
     ]
    }
   ],
   "source": [
    "# data generators - preprocessing and augmentation for A, B, C(except Full)\n",
    "train_gen, val_gen, test_gen = get_generators(\n",
    "    model_name=config['backbone_name'],\n",
    "    input_shape=tuple(config['input_shape']),\n",
    "    batch_size=config['batch_size'],\n",
    "    data_dir=f\"{config['base_output_dir']}/seed{config['seed']}\",\n",
    "    train_ratio=config['train_ratio'],\n",
    "    val_ratio=config['val_ratio'],\n",
    "    test_ratio=config['test_ratio'],\n",
    "    seed=config['seed'],\n",
    "    augmentations=None,\n",
    ")"
   ]
  },
  {
   "cell_type": "markdown",
   "id": "bc36ba54",
   "metadata": {},
   "source": [
    "#### data generators for verC-full"
   ]
  },
  {
   "cell_type": "code",
   "execution_count": null,
   "id": "b67dfb21",
   "metadata": {},
   "outputs": [],
   "source": [
    "#data generators for ver_C_full\n",
    "import glob\n",
    "\n",
    "def get_generators_non_seed(model_name, input_shape=(224, 224, 3), batch_size=None, data_dir=None,train_ratio=0.7, val_ratio=0.15, test_ratio=0.15, seed=None, augmentations=None):\n",
    "    if data_dir is None:\n",
    "        raise ValueError(\"❌ data_dir 값을 지정해야 합니다.\")\n",
    "    if augmentations is None:\n",
    "        augmentations = []\n",
    "\n",
    "    preprocess_func = preprocess_map[model_name]\n",
    "\n",
    "    # 이미지 경로 및 라벨 수집\n",
    "    image_paths = []\n",
    "    labels = []\n",
    "    class_dirs = [d for d in os.listdir(data_dir) if os.path.isdir(os.path.join(data_dir, d))]\n",
    "\n",
    "    for class_name in class_dirs:\n",
    "        class_path = os.path.join(data_dir, class_name)\n",
    "        image_files = glob.glob(os.path.join(class_path, '*'))  # 모든 확장자 허용\n",
    "        image_paths.extend(image_files)\n",
    "        labels.extend([class_name] * len(image_files))\n",
    "\n",
    "    df = pd.DataFrame({\n",
    "        'filename': image_paths,\n",
    "        'class': labels\n",
    "    })\n",
    "    \n",
    "    # 클래스별 stratified split\n",
    "    train_df, temp_df = train_test_split(df, stratify=df['class'], train_size=train_ratio, random_state=seed)\n",
    "    val_df, test_df = train_test_split(\n",
    "        temp_df,\n",
    "        stratify=temp_df['class'],\n",
    "        test_size=test_ratio / (val_ratio + test_ratio),\n",
    "        random_state=seed\n",
    "    )\n",
    "    \n",
    "    # generator setup\n",
    "    train_datagen = ImageDataGenerator(\n",
    "        preprocessing_function=preprocess_func,\n",
    "        rotation_range=20,\n",
    "        width_shift_range=0.1,\n",
    "        height_shift_range=0.1,\n",
    "        zoom_range=0.2,\n",
    "        horizontal_flip=True,\n",
    "        vertical_flip=True,\n",
    "    )\n",
    "    \n",
    "    val_datagen = ImageDataGenerator(preprocessing_function=preprocess_func)\n",
    "    test_datagen = ImageDataGenerator(preprocessing_function=preprocess_func)\n",
    "    \n",
    "    print(preprocess_func)\n",
    "    \n",
    "    # generator 생성\n",
    "    train_gen = train_datagen.flow_from_dataframe(\n",
    "        dataframe=train_df,\n",
    "        x_col='filename',\n",
    "        y_col='class',\n",
    "        target_size=input_shape[:2],\n",
    "        batch_size=batch_size,\n",
    "        class_mode='categorical',\n",
    "        shuffle=True,\n",
    "    )\n",
    "\n",
    "    val_gen = val_datagen.flow_from_dataframe(\n",
    "        dataframe=val_df,\n",
    "        x_col='filename',\n",
    "        y_col='class',\n",
    "        target_size=input_shape[:2],\n",
    "        batch_size=batch_size,\n",
    "        class_mode='categorical',\n",
    "        shuffle=False,\n",
    "    )\n",
    "\n",
    "    test_gen = test_datagen.flow_from_dataframe(\n",
    "        dataframe=test_df,\n",
    "        x_col='filename',\n",
    "        y_col='class',\n",
    "        target_size=input_shape[:2],\n",
    "        batch_size=batch_size,\n",
    "        class_mode='categorical',\n",
    "        shuffle=False,\n",
    "    )\n",
    "\n",
    "    return train_gen, val_gen, test_gen\n",
    "\n",
    "train_gen, val_gen, test_gen = get_generators_non_seed(\n",
    "    model_name=config['backbone_name'],\n",
    "    input_shape=tuple(config['input_shape']),\n",
    "    batch_size=config['batch_size'],\n",
    "    data_dir=\"/Users/vnlt/PROJECT/ex-cnn-cv/data/dataset/seed99\", # f\"{config['original_dataset_dir']}\",\n",
    "    train_ratio=config['train_ratio'],\n",
    "    val_ratio=config['val_ratio'],\n",
    "    test_ratio=config['test_ratio'],\n",
    "    seed=config['seed'],\n",
    "    augmentations=config['augmentations']\n",
    ")"
   ]
  },
  {
   "cell_type": "markdown",
   "id": "0eb8c79d",
   "metadata": {},
   "source": [
    "#### data generators for verD"
   ]
  },
  {
   "cell_type": "code",
   "execution_count": null,
   "id": "37706056",
   "metadata": {},
   "outputs": [],
   "source": [
    "#data generators for ver_D\n",
    "\n",
    "def get_generators(model_name, input_shape=(224, 224, 3), batch_size=None, data_dir=None,train_ratio=0.7, val_ratio=0.15, test_ratio=0.15, seed=None, augmentations=None):\n",
    "    if data_dir is None:\n",
    "        raise ValueError(\"❌ data_dir 값을 지정해야 합니다.\")\n",
    "    if augmentations is None:\n",
    "        augmentations = []\n",
    "\n",
    "    preprocess_func = preprocess_map[model_name]\n",
    "    \n",
    "    # 이미지 경로 및 라벨 수집\n",
    "    image_paths = []\n",
    "    labels = []\n",
    "    \n",
    "    for cls in os.listdir(data_dir):\n",
    "        cls_path = os.path.join(data_dir, cls)\n",
    "        if not os.path.isdir(cls_path):\n",
    "            continue\n",
    "        image_files = glob.glob(os.path.join(cls_path, '*'))  # 모든 확장자 허용\n",
    "        image_paths.extend(image_files)\n",
    "        labels.extend([cls] * len(image_files))\n",
    "\n",
    "    df = pd.DataFrame({'filename': image_paths, 'class': labels})\n",
    "    \n",
    "    # 클래스별 stratified split\n",
    "    train_df, temp_df = train_test_split(df, stratify=df['class'], train_size=train_ratio, random_state=seed)\n",
    "    val_df, test_df = train_test_split(\n",
    "        temp_df,\n",
    "        stratify=temp_df['class'],\n",
    "        test_size=test_ratio / (val_ratio + test_ratio),\n",
    "        random_state=seed\n",
    "    )\n",
    "    \n",
    "    # generator setup\n",
    "    train_datagen = ImageDataGenerator(\n",
    "        preprocessing_function=preprocess_func,\n",
    "        rotation_range=config['rotation_range'],\n",
    "        width_shift_range=config['width_shift_range'],\n",
    "        height_shift_range=config['height_shift_range'],\n",
    "        zoom_range=config['zoom_range'],\n",
    "        horizontal_flip=config['horizontal_flip'],\n",
    "        vertical_flip=config['vertical_flip'],\n",
    "    )\n",
    "    \n",
    "    val_datagen = ImageDataGenerator(preprocessing_function=preprocess_func)\n",
    "    test_datagen = ImageDataGenerator(preprocessing_function=preprocess_func)\n",
    "    \n",
    "    print(preprocess_func)\n",
    "    \n",
    "    # generator 생성\n",
    "    train_gen = train_datagen.flow_from_dataframe(\n",
    "        dataframe=train_df,\n",
    "        x_col='filename',\n",
    "        y_col='class',\n",
    "        target_size=input_shape[:2],\n",
    "        batch_size=batch_size,\n",
    "        class_mode='categorical',\n",
    "        shuffle=True,\n",
    "        directory=None\n",
    "    )\n",
    "\n",
    "    val_gen = val_datagen.flow_from_dataframe(\n",
    "        dataframe=val_df,\n",
    "        x_col='filename',\n",
    "        y_col='class',\n",
    "        target_size=input_shape[:2],\n",
    "        batch_size=batch_size,\n",
    "        class_mode='categorical',\n",
    "        shuffle=False,\n",
    "        directory=None  \n",
    "    )\n",
    "\n",
    "    test_gen = test_datagen.flow_from_dataframe(\n",
    "        dataframe=test_df,\n",
    "        x_col='filename',\n",
    "        y_col='class',\n",
    "        target_size=input_shape[:2],\n",
    "        batch_size=batch_size,\n",
    "        class_mode='categorical',\n",
    "        shuffle=False,\n",
    "        directory=None\n",
    "    )\n",
    "\n",
    "    return train_gen, val_gen, test_gen\n",
    "\n",
    "train_gen, val_gen, test_gen = get_generators(\n",
    "    model_name=config['backbone_name'],\n",
    "    input_shape=tuple(config['input_shape']),\n",
    "    batch_size=config['batch_size'],\n",
    "    data_dir=f\"{config['base_output_dir']}/seed{config['seed']}\",\n",
    "    train_ratio=config['train_ratio'],\n",
    "    val_ratio=config['val_ratio'],\n",
    "    test_ratio=config['test_ratio'],\n",
    "    seed=config['seed'],\n",
    "    augmentations=config['augmentations']\n",
    ")"
   ]
  },
  {
   "cell_type": "markdown",
   "id": "f0192203",
   "metadata": {},
   "source": [
    "### check data import"
   ]
  },
  {
   "cell_type": "code",
   "execution_count": 12,
   "id": "2b9e1997",
   "metadata": {},
   "outputs": [
    {
     "name": "stdout",
     "output_type": "stream",
     "text": [
      "EfficientNetB0_v1_test2_dataset_distribution\n"
     ]
    },
    {
     "data": {
      "text/html": [
       "<div>\n",
       "<style scoped>\n",
       "    .dataframe tbody tr th:only-of-type {\n",
       "        vertical-align: middle;\n",
       "    }\n",
       "\n",
       "    .dataframe tbody tr th {\n",
       "        vertical-align: top;\n",
       "    }\n",
       "\n",
       "    .dataframe thead th {\n",
       "        text-align: right;\n",
       "    }\n",
       "</style>\n",
       "<table border=\"1\" class=\"dataframe\">\n",
       "  <thead>\n",
       "    <tr style=\"text-align: right;\">\n",
       "      <th></th>\n",
       "      <th>Train</th>\n",
       "      <th>Validation</th>\n",
       "      <th>Test</th>\n",
       "    </tr>\n",
       "    <tr>\n",
       "      <th>Class</th>\n",
       "      <th></th>\n",
       "      <th></th>\n",
       "      <th></th>\n",
       "    </tr>\n",
       "  </thead>\n",
       "  <tbody>\n",
       "    <tr>\n",
       "      <th>Bacterial-spot</th>\n",
       "      <td>14</td>\n",
       "      <td>4</td>\n",
       "      <td>2</td>\n",
       "    </tr>\n",
       "    <tr>\n",
       "      <th>Healthy</th>\n",
       "      <td>14</td>\n",
       "      <td>4</td>\n",
       "      <td>2</td>\n",
       "    </tr>\n",
       "    <tr>\n",
       "      <th>PMMoV</th>\n",
       "      <td>14</td>\n",
       "      <td>4</td>\n",
       "      <td>2</td>\n",
       "    </tr>\n",
       "    <tr>\n",
       "      <th>Powdery-mildew</th>\n",
       "      <td>14</td>\n",
       "      <td>4</td>\n",
       "      <td>2</td>\n",
       "    </tr>\n",
       "    <tr>\n",
       "      <th>TSWV</th>\n",
       "      <td>14</td>\n",
       "      <td>4</td>\n",
       "      <td>3</td>\n",
       "    </tr>\n",
       "  </tbody>\n",
       "</table>\n",
       "</div>"
      ],
      "text/plain": [
       "                Train  Validation  Test\n",
       "Class                                  \n",
       "Bacterial-spot     14           4     2\n",
       "Healthy            14           4     2\n",
       "PMMoV              14           4     2\n",
       "Powdery-mildew     14           4     2\n",
       "TSWV               14           4     3"
      ]
     },
     "metadata": {},
     "output_type": "display_data"
    },
    {
     "name": "stdout",
     "output_type": "stream",
     "text": [
      "Saved class distribution table to 'results/EfficientNetB0_v1_test2/dist_table.png'\n"
     ]
    },
    {
     "data": {
      "image/png": "[encoded data removed]",
      "text/plain": [
       "<Figure size 800x450 with 1 Axes>"
      ]
     },
     "metadata": {},
     "output_type": "display_data"
    }
   ],
   "source": [
    "class_distribution(\n",
    "    train_gen,\n",
    "    val_gen,\n",
    "    test_gen,\n",
    "    config,\n",
    "    save_path=f\"{save_dir}/dist_table.png\"\n",
    ")"
   ]
  },
  {
   "cell_type": "markdown",
   "id": "5ac7ad3f",
   "metadata": {},
   "source": [
    "### 2. model training"
   ]
  },
  {
   "cell_type": "code",
   "execution_count": 13,
   "id": "9e335e77",
   "metadata": {},
   "outputs": [],
   "source": [
    "# model structure\n",
    "model = build_model(\n",
    "    backbone_name=config['backbone_name'],\n",
    "    input_shape=tuple(config['input_shape']),\n",
    "    num_classes=config['num_classes'],\n",
    "    dropout_rate=config['dropout_rate']\n",
    ")\n",
    "# compile model\n",
    "optimizer = get_optimizer(\n",
    "    optimizer_name=config['optimizer'],\n",
    "    learning_rate=config['learning_rate'],\n",
    "    weight_decay=config.get('weight_decay', 0.0)\n",
    ")\n",
    "\n",
    "callbacks = get_callbacks(\n",
    "    model_name=config['backbone_name'],\n",
    "    save_dir=f\"results/{config['experiment_id']}\",\n",
    "    patience=config['patience']\n",
    ")"
   ]
  },
  {
   "cell_type": "code",
   "execution_count": null,
   "id": "5290653b",
   "metadata": {},
   "outputs": [],
   "source": [
    "# model training\n",
    "history = train_model(\n",
    "    model,\n",
    "    train_gen,\n",
    "    val_gen,\n",
    "    epochs=config['epochs'],\n",
    "    callbacks=callbacks,\n",
    "    optimizer=optimizer\n",
    ")"
   ]
  },
  {
   "cell_type": "markdown",
   "id": "57ae09f6",
   "metadata": {},
   "source": [
    "### 3. evaluation and results"
   ]
  },
  {
   "cell_type": "code",
   "execution_count": null,
   "id": "2e57367a",
   "metadata": {},
   "outputs": [],
   "source": [
    "from sklearn.metrics import classification_report, confusion_matrix\n",
    "import numpy as np"
   ]
  },
  {
   "cell_type": "code",
   "execution_count": null,
   "id": "db214c99",
   "metadata": {},
   "outputs": [],
   "source": [
    "y_true, y_pred, y_prob = evaluate_model(model, test_gen)\n"
   ]
  },
  {
   "cell_type": "code",
   "execution_count": null,
   "id": "2e76244f",
   "metadata": {},
   "outputs": [],
   "source": [
    "# Check class indices\n",
    "print(\"Original class_indices (class name → index):\")\n",
    "print(test_gen.class_indices)"
   ]
  },
  {
   "cell_type": "code",
   "execution_count": null,
   "id": "913949a4",
   "metadata": {},
   "outputs": [],
   "source": [
    "class_names = list(test_gen.class_indices.keys())"
   ]
  },
  {
   "cell_type": "code",
   "execution_count": null,
   "id": "7c312ffe",
   "metadata": {},
   "outputs": [],
   "source": [
    "# results visualization\n",
    "cm = confusion_matrix(y_true, y_pred)\n",
    "report = classification_report(y_true, y_pred, output_dict=True)\n",
    "\n",
    "metrics_dict = {\n",
    "    \"accuracy\": report[\"accuracy\"],\n",
    "    \"precision\": report[\"macro avg\"][\"precision\"],\n",
    "    \"recall\": report[\"macro avg\"][\"recall\"],\n",
    "    \"f1_score\": report[\"macro avg\"][\"f1-score\"]\n",
    "}\n",
    "\n",
    "plot_metrics_text(\n",
    "    metrics_dict=metrics_dict,\n",
    "    experiment_id=config['experiment_id'],\n",
    "    save_path=f\"{save_dir}/metrics_text.png\"\n",
    ")\n",
    "\n",
    "plot_confusion_matrix(\n",
    "    cm, \n",
    "    class_names, \n",
    "    title=\"Confusion Matrix\", \n",
    "    save_path=f\"{save_dir}/confusion_matrix.png\"\n",
    ")\n",
    "plot_train_history(\n",
    "    history,\n",
    "    save_path=f\"{save_dir}/history_graph.png\"\n",
    ")\n",
    "\n",
    "show_top_misclassified(\n",
    "    y_true,\n",
    "    y_pred,\n",
    "    y_prob,\n",
    "    class_names,\n",
    "    generator=test_gen,\n",
    "    model_name=config['experiment_id'],\n",
    "    save_dir=save_dir,\n",
    "    top_n=3\n",
    ")"
   ]
  },
  {
   "cell_type": "markdown",
   "id": "a624f66d",
   "metadata": {},
   "source": [
    "### 4. results save"
   ]
  },
  {
   "cell_type": "code",
   "execution_count": null,
   "id": "54c9f09c",
   "metadata": {},
   "outputs": [],
   "source": [
    "\n",
    "save_results(\n",
    "    model_name=config['backbone_name'],\n",
    "    history=history,\n",
    "    cm=confusion_matrix(y_true, y_pred),\n",
    "    class_names=list(test_gen.class_indices.keys()),\n",
    "    report=classification_report(y_true, y_pred, target_names=list(test_gen.class_indices.keys()), output_dict=True),\n",
    "    save_dir= save_dir\n",
    ")\n",
    "\n",
    "print(f\"\\u2705 저장 완료: {save_dir}\")\n"
   ]
  }
 ],
 "metadata": {
  "kernelspec": {
   "display_name": ".venv",
   "language": "python",
   "name": "python3"
  },
  "language_info": {
   "codemirror_mode": {
    "name": "ipython",
    "version": 3
   },
   "file_extension": ".py",
   "mimetype": "text/x-python",
   "name": "python",
   "nbconvert_exporter": "python",
   "pygments_lexer": "ipython3",
   "version": "3.9.6"
  }
 },
 "nbformat": 4,
 "nbformat_minor": 5
}
